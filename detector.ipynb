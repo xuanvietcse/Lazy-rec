{
 "cells": [
  {
   "cell_type": "markdown",
   "id": "3a4237e7-1f41-4125-9b6c-e844ba8dd3fa",
   "metadata": {},
   "source": [
    "# Import Library and Constants"
   ]
  },
  {
   "cell_type": "code",
   "execution_count": 25,
   "id": "d96e63f1-81d9-4548-865d-8265d76168f8",
   "metadata": {},
   "outputs": [],
   "source": [
    "from pathlib import Path\n",
    "import face_recognition\n",
    "import pickle\n",
    "from collections import Counter\n",
    "from PIL import Image, ImageDraw"
   ]
  },
  {
   "cell_type": "code",
   "execution_count": 26,
   "id": "6d30c83f-349c-4079-bb18-33844e34f796",
   "metadata": {},
   "outputs": [],
   "source": [
    "DEFAULT_ENCODING_PATH = Path(\"output/encodings.pkl\")\n",
    "BOUDING_BOX_COLOR = \"blue\"\n",
    "TEXT_COLOR = \"white\""
   ]
  },
  {
   "cell_type": "code",
   "execution_count": 27,
   "id": "1569000f-4a59-4719-9586-bb38f3883cc2",
   "metadata": {},
   "outputs": [],
   "source": [
    "Path(\"training\").mkdir(exist_ok=True)\n",
    "Path(\"output\").mkdir(exist_ok=True)\n",
    "Path(\"validation\").mkdir(exist_ok=True)"
   ]
  },
  {
   "cell_type": "markdown",
   "id": "41466307-3669-41eb-8de0-21ce88ab70f8",
   "metadata": {},
   "source": [
    "# Main functions"
   ]
  },
  {
   "cell_type": "code",
   "execution_count": 28,
   "id": "889c1ce3-67d5-4a08-9615-3ef76121dc20",
   "metadata": {},
   "outputs": [],
   "source": [
    "def encode_known_faces(\n",
    "    model: str=\"hog\", encodings_location: Path = DEFAULT_ENCODING_PATH\n",
    ") -> None:\n",
    "    names = []\n",
    "    encodings = []\n",
    "    for filepath in Path(\"training\").glob(\"*/*\"):\n",
    "        name = filepath.parent.name\n",
    "        image = face_recognition.load_image_file(filepath)\n",
    "\n",
    "        face_locations = face_recognition.face_locations(image, model=model)\n",
    "        face_encodings = face_recognition.face_encodings(image, face_locations)\n",
    "\n",
    "        for encoding in face_encodings:\n",
    "            name.append(name)\n",
    "            encodings.append(encoding)\n",
    "    name_encodings = {\"names\": names, \"encodings\": encodings}\n",
    "    with encodings_location.open(mode=\"wb\") as f:\n",
    "        pickle.dump(name_encodings, f)\n",
    "\n",
    "def recognize_faces(\n",
    "    image_location: str,\n",
    "    model: str=\"hog\",\n",
    "    encodings_location: Path = DEFAULT_ENCODING_PATH\n",
    ") -> None:\n",
    "    with encodings_location.open(mode=\"rb\") as f:\n",
    "        loaded_encodings = pickle.load(f)\n",
    "    input_image = face_recognition.load_image_file(image_location)\n",
    "\n",
    "    input_face_locations = face_recognition.face_locations(\n",
    "        input_image, model=model\n",
    "    )\n",
    "\n",
    "    input_face_encodings = face_recognition.face_encodings(\n",
    "        input_image, input_face_locations\n",
    "    )\n",
    "\n",
    "    pillow_image = Image.fromarray(input_image)\n",
    "    draw = ImageDraw.Draw(pillow_image)\n",
    "\n",
    "    for bounding_box, unknown_encoding in zip(\n",
    "        input_face_locations, input_face_encodings\n",
    "    ):\n",
    "        name = _regconize_face(unknown_encoding, loaded_encodings)\n",
    "        if not name:\n",
    "            name = \"Unknown\"\n",
    "        _display_face(draw, bouding_box, name)\n",
    "\n",
    "    del draw\n",
    "    pillow_image.show()\n",
    "\n",
    "def _recognize_face(unknown_encoding, loaded_encodings):\n",
    "    boolean_matches = face_recognition.compare_faces(\n",
    "        loaded_encodings[\"encodings\"], unknown_encoding\n",
    "    )\n",
    "    votes = Counter(\n",
    "        name\n",
    "        for match, name in zip(boolean_matches, loaded_encodings[\"names\"])\n",
    "        if match\n",
    "    )\n",
    "    if votes:\n",
    "        return votes.most_common(1)[0][0]\n",
    "\n",
    "def _display_face(draw, bounding_box, name):\n",
    "    top, right, bottom, left = bouding_box\n",
    "    draw.rectangle(((left, top), (right, bottom)), outline=BOUNDING_BOX_COLOR)\n",
    "    text_left, text_top, text_right, text_bottom = draw.textbbox(\n",
    "        (left, bottom), name\n",
    "    )\n",
    "    draw.rectangle(\n",
    "        ((text_left, text_top), (text_right, text_bottom)),\n",
    "        fill=\"blue\",\n",
    "        outline=\"blue\"\n",
    "    )\n",
    "    draw.text(\n",
    "        (text_left, text_top),\n",
    "        name,\n",
    "        fill=\"white\"\n",
    "    )\n",
    "\n",
    "def validate(model: str=\"hog\"):\n",
    "    for filepath in Path(\"validation\").rglob(\"*\"):\n",
    "        if filepath.is_file():\n",
    "            recognize_faces(\n",
    "                image_location = str(filepath.absolute()), model=model\n",
    "            )"
   ]
  },
  {
   "cell_type": "markdown",
   "id": "614718de-1084-40f7-bae7-4c4f52a583f8",
   "metadata": {},
   "source": [
    "# Test"
   ]
  },
  {
   "cell_type": "code",
   "execution_count": 29,
   "id": "3b8b7c1e-877e-4561-94c6-aaa7c5d7918f",
   "metadata": {},
   "outputs": [
    {
     "ename": "NameError",
     "evalue": "name '_regconize_face' is not defined",
     "output_type": "error",
     "traceback": [
      "\u001b[0;31m---------------------------------------------------------------------------\u001b[0m",
      "\u001b[0;31mNameError\u001b[0m                                 Traceback (most recent call last)",
      "Cell \u001b[0;32mIn[29], line 1\u001b[0m\n\u001b[0;32m----> 1\u001b[0m \u001b[43mvalidate\u001b[49m\u001b[43m(\u001b[49m\u001b[43m)\u001b[49m\n",
      "Cell \u001b[0;32mIn[28], line 83\u001b[0m, in \u001b[0;36mvalidate\u001b[0;34m(model)\u001b[0m\n\u001b[1;32m     81\u001b[0m \u001b[38;5;28;01mfor\u001b[39;00m filepath \u001b[38;5;129;01min\u001b[39;00m Path(\u001b[38;5;124m\"\u001b[39m\u001b[38;5;124mvalidation\u001b[39m\u001b[38;5;124m\"\u001b[39m)\u001b[38;5;241m.\u001b[39mrglob(\u001b[38;5;124m\"\u001b[39m\u001b[38;5;124m*\u001b[39m\u001b[38;5;124m\"\u001b[39m):\n\u001b[1;32m     82\u001b[0m     \u001b[38;5;28;01mif\u001b[39;00m filepath\u001b[38;5;241m.\u001b[39mis_file():\n\u001b[0;32m---> 83\u001b[0m         \u001b[43mrecognize_faces\u001b[49m\u001b[43m(\u001b[49m\n\u001b[1;32m     84\u001b[0m \u001b[43m            \u001b[49m\u001b[43mimage_location\u001b[49m\u001b[43m \u001b[49m\u001b[38;5;241;43m=\u001b[39;49m\u001b[43m \u001b[49m\u001b[38;5;28;43mstr\u001b[39;49m\u001b[43m(\u001b[49m\u001b[43mfilepath\u001b[49m\u001b[38;5;241;43m.\u001b[39;49m\u001b[43mabsolute\u001b[49m\u001b[43m(\u001b[49m\u001b[43m)\u001b[49m\u001b[43m)\u001b[49m\u001b[43m,\u001b[49m\u001b[43m \u001b[49m\u001b[43mmodel\u001b[49m\u001b[38;5;241;43m=\u001b[39;49m\u001b[43mmodel\u001b[49m\n\u001b[1;32m     85\u001b[0m \u001b[43m        \u001b[49m\u001b[43m)\u001b[49m\n",
      "Cell \u001b[0;32mIn[28], line 43\u001b[0m, in \u001b[0;36mrecognize_faces\u001b[0;34m(image_location, model, encodings_location)\u001b[0m\n\u001b[1;32m     38\u001b[0m draw \u001b[38;5;241m=\u001b[39m ImageDraw\u001b[38;5;241m.\u001b[39mDraw(pillow_image)\n\u001b[1;32m     40\u001b[0m \u001b[38;5;28;01mfor\u001b[39;00m bounding_box, unknown_encoding \u001b[38;5;129;01min\u001b[39;00m \u001b[38;5;28mzip\u001b[39m(\n\u001b[1;32m     41\u001b[0m     input_face_locations, input_face_encodings\n\u001b[1;32m     42\u001b[0m ):\n\u001b[0;32m---> 43\u001b[0m     name \u001b[38;5;241m=\u001b[39m \u001b[43m_regconize_face\u001b[49m(unknown_encoding, loaded_encodings)\n\u001b[1;32m     44\u001b[0m     \u001b[38;5;28;01mif\u001b[39;00m \u001b[38;5;129;01mnot\u001b[39;00m name:\n\u001b[1;32m     45\u001b[0m         name \u001b[38;5;241m=\u001b[39m \u001b[38;5;124m\"\u001b[39m\u001b[38;5;124mUnknown\u001b[39m\u001b[38;5;124m\"\u001b[39m\n",
      "\u001b[0;31mNameError\u001b[0m: name '_regconize_face' is not defined"
     ]
    }
   ],
   "source": [
    "validate()"
   ]
  }
 ],
 "metadata": {
  "kernelspec": {
   "display_name": "Python 3 (ipykernel)",
   "language": "python",
   "name": "python3"
  },
  "language_info": {
   "codemirror_mode": {
    "name": "ipython",
    "version": 3
   },
   "file_extension": ".py",
   "mimetype": "text/x-python",
   "name": "python",
   "nbconvert_exporter": "python",
   "pygments_lexer": "ipython3",
   "version": "3.12.3"
  }
 },
 "nbformat": 4,
 "nbformat_minor": 5
}
